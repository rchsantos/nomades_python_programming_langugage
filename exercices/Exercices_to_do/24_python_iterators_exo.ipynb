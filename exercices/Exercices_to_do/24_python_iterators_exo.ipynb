{
 "cells": [
  {
   "metadata": {},
   "cell_type": "markdown",
   "source": [
    "# J5 — Itérateurs & Générateurs\n",
    "\n",
    "## Objectifs\n",
    "- Comprendre `iter()` / `next()` et le protocole itérateur (`__iter__`, `__next__`).\n",
    "- Écrire des générateurs (`yield`) et des générateurs infinis.\n",
    "- Pratiquer la lazy evaluation (lecture fichiers) et les pipelines.\n",
    "- Renforcer la manipulation d'itérables en vue du module Flask.\n",
    "\n",
    "## Plan (8 exos)\n",
    "1) Itérateur de base (iter/next)\n",
    "2) Itérateur personnalisé — pairs\n",
    "3) Générateur — Fibonacci (n premiers)\n",
    "4) Générateur infini — count_from\n",
    "5) Générateur lazy — read_lines(path)\n",
    "6) Pipeline de générateurs — numbers → squares → even_filter\n",
    "7) Générateur — chunked(iterable, size)\n",
    "8) Générateur — unique(iterable)\n",
    "\n",
    "> Règle : pas de solution ici. Utilisez les `TODO` + petits tests (commentés).\n"
   ],
   "id": "c7733188f34adf9"
  },
  {
   "metadata": {},
   "cell_type": "markdown",
   "source": [
    "## Exo 1 — Itérateur de base\n",
    "- Créez une liste.\n",
    "- Obtenez un itérateur avec `iter(...)`.\n",
    "- Avancez avec `next(...)` plusieurs fois.\n",
    "- Gérez proprement l'arrêt en attrapant `StopIteration` (juste pour l'afficher).\n"
   ],
   "id": "6d57eb8a698e17aa"
  },
  {
   "cell_type": "code",
   "execution_count": null,
   "id": "initial_id",
   "metadata": {
    "collapsed": true
   },
   "outputs": [],
   "source": [
    "# TODO: créer une liste puis itérer avec iter/next\n",
    "items = [1, 2, 3, 4]\n",
    "\n",
    "it = iter(items)\n",
    "\n",
    "# TODO: next(it) plusieurs fois\n",
    "# print(next(it))\n",
    "# print(next(it))\n",
    "# print(next(it))\n",
    "# print(next(it))\n",
    "\n",
    "# TODO: démontrer StopIteration\n",
    "# try:\n",
    "#     print(next(it))\n",
    "# except StopIteration:\n",
    "#     print(\"Fin de l'itérateur\")\n"
   ]
  },
  {
   "metadata": {},
   "cell_type": "markdown",
   "source": [
    "## Exo 2 — Itérateur personnalisé : EvenNumbers(n)\n",
    "- Implémentez une classe itérable qui renvoie `0, 2, 4, ..., n` (inclus si pair).\n",
    "- Méthodes à définir : `__iter__(self) -> self` et `__next__(self)`.\n",
    "- Levez `StopIteration` quand terminé.\n"
   ],
   "id": "cb91db494489c7fe"
  },
  {
   "metadata": {},
   "cell_type": "code",
   "outputs": [],
   "execution_count": null,
   "source": [
    "# TODO: classe EvenNumbers\n",
    "class EvenNumbers:\n",
    "    def __init__(self, n: int):\n",
    "        # TODO: stocker n et un curseur interne (ex: cur=0)\n",
    "        pass\n",
    "\n",
    "    def __iter__(self):\n",
    "        # TODO: renvoyer self\n",
    "        pass\n",
    "\n",
    "    def __next__(self) -> int:\n",
    "        # TODO:\n",
    "        # - si cur > n -> StopIteration\n",
    "        # - sinon retourner cur et avancer de 2\n",
    "        pass\n",
    "\n",
    "# # tests (décommentez)\n",
    "# print(list(EvenNumbers(10)))   # attendu: [0, 2, 4, 6, 8, 10]\n"
   ],
   "id": "28dd3fa049365da1"
  },
  {
   "metadata": {},
   "cell_type": "markdown",
   "source": [
    "## Exo 3 — Générateur `fibonacci(n)`\n",
    "- Écrire `fibonacci(n)` qui `yield` les `n` premiers termes : 0, 1, 1, 2, 3, 5, ...\n",
    "- Utiliser une boucle et le couple `(a, b)`.\n"
   ],
   "id": "a534ea3b9d0c4521"
  },
  {
   "metadata": {},
   "cell_type": "code",
   "outputs": [],
   "execution_count": null,
   "source": [
    "# TODO: générateur fibonacci(n)\n",
    "def fibonacci(n: int):\n",
    "    # TODO: yield n valeurs\n",
    "    pass\n",
    "\n",
    "# # tests\n",
    "# print(list(fibonacci(1)))  # [0]\n",
    "# print(list(fibonacci(5)))  # [0, 1, 1, 2, 3]\n"
   ],
   "id": "f47fe5231af1e81f"
  },
  {
   "metadata": {},
   "cell_type": "markdown",
   "source": [
    "## Exo 4 — Générateur infini `count_from(start=0)`\n",
    "- Générateur **infini** qui produit `start, start+1, start+2, ...`\n",
    "- Test : appelez `next()` plusieurs fois. Attention à ne pas convertir en `list(...)` !\n"
   ],
   "id": "60e3d43768fa8385"
  },
  {
   "metadata": {},
   "cell_type": "code",
   "outputs": [],
   "execution_count": null,
   "source": [
    "# TODO: générateur infini\n",
    "def count_from(start: int = 0):\n",
    "    # TODO: boucle infinie, yield, puis incrément\n",
    "    pass\n",
    "\n",
    "# # tests (ne pas lister !)\n",
    "# it = count_from(10)\n",
    "# print(next(it))  # 10\n",
    "# print(next(it))  # 11\n",
    "# print(next(it))  # 12\n"
   ],
   "id": "13c35206bbc700c2"
  },
  {
   "metadata": {},
   "cell_type": "markdown",
   "source": [
    "## Exo 5 — Générateur `read_lines(path)`\n",
    "- Lire un fichier **ligne par ligne** en mode lazy (ne pas charger tout en mémoire).\n",
    "- Utiliser `with open(..., encoding=\"utf-8\")`.\n",
    "- `yield line.strip()` pour renvoyer lignes sans fin de ligne.\n",
    "\n",
    "*(si vous n’avez pas de fichier, créez-en un petit avec 3–4 lignes)*\n"
   ],
   "id": "5281ed9fe28d318d"
  },
  {
   "metadata": {},
   "cell_type": "code",
   "outputs": [],
   "execution_count": null,
   "source": [
    "from pathlib import Path\n",
    "\n",
    "# TODO: read_lines(path)\n",
    "def read_lines(path: Path):\n",
    "    # TODO: ouvrir et yield chaque ligne strip()\n",
    "    pass\n",
    "\n",
    "# # préparation test (décommentez si besoin)\n",
    "# Path(\"demo.txt\").write_text(\"alpha\\nbeta\\ngamma\\n\", encoding=\"utf-8\")\n",
    "# for line in read_lines(Path(\"demo.txt\")):\n",
    "#     print(line)  # alpha / beta / gamma\n"
   ],
   "id": "aaa5527a8d24d491"
  },
  {
   "metadata": {},
   "cell_type": "markdown",
   "source": [
    "## Exo 6 — Pipeline de générateurs\n",
    "- `numbers()` : yield de 1 à 100\n",
    "- `squares(it)` : yield le carré de chaque nombre\n",
    "- `even_filter(it)` : ne garder que les valeurs **pairs**\n",
    "\n",
    "Test :\n",
    "- `list(even_filter(squares(numbers())))`\n"
   ],
   "id": "fba424eb33a287e3"
  },
  {
   "metadata": {},
   "cell_type": "code",
   "outputs": [],
   "execution_count": null,
   "source": [
    "# TODO: numbers, squares, even_filter\n",
    "def numbers():\n",
    "    # TODO: yield 1..100\n",
    "    pass\n",
    "\n",
    "def squares(it):\n",
    "    # TODO: yield n*n pour n dans it\n",
    "    pass\n",
    "\n",
    "def even_filter(it):\n",
    "    # TODO: yield n seulement si n % 2 == 0\n",
    "    pass\n",
    "\n",
    "# # test\n",
    "# print(list(even_filter(squares(numbers()))))\n"
   ],
   "id": "89771267c8b080f6"
  },
  {
   "metadata": {},
   "cell_type": "markdown",
   "source": [
    "## Exo 7 — `chunked(iterable, size)`\n",
    "- Écrire un générateur qui découpe un iterable en **blocs** de taille `size` (dernier bloc plus petit possible).\n",
    "- Exemple : `list(chunked([1,2,3,4,5,6,7], 3))` → `[[1,2,3],[4,5,6],[7]]`.\n",
    "- Contrainte : ne pas tout charger si l'iterable est gros → itérer et accumuler par paquets.\n"
   ],
   "id": "8c25dcd06d38af41"
  },
  {
   "metadata": {},
   "cell_type": "code",
   "outputs": [],
   "execution_count": null,
   "source": [
    "# TODO: chunked(iterable, size)\n",
    "def chunked(iterable, size: int):\n",
    "    # TODO: accumuler dans un buffer jusqu'à size, yield, puis vider\n",
    "    pass\n",
    "\n",
    "# # tests\n",
    "# print(list(chunked([1,2,3,4,5,6,7], 3)))  # [[1,2,3],[4,5,6],[7]]\n"
   ],
   "id": "9d60664909c48af7"
  },
  {
   "metadata": {},
   "cell_type": "markdown",
   "source": [
    "## Exo 8 — `unique(iterable)` (ordre d'apparition conservé)\n",
    "- Yield uniquement la **première occurrence** de chaque valeur, en conservant l’ordre d’arrivée.\n",
    "- Exemple : `list(unique([1,2,2,3,1,4]))` → `[1,2,3,4]`.\n",
    "- Conseil : utiliser un `set` pour mémoriser les vues.\n"
   ],
   "id": "18a218ee02712e32"
  },
  {
   "metadata": {},
   "cell_type": "code",
   "outputs": [],
   "execution_count": null,
   "source": [
    "# TODO: unique(iterable)\n",
    "def unique(iterable):\n",
    "    # TODO: utiliser un set 'seen' pour filtrer\n",
    "    pass\n",
    "\n",
    "# # tests\n",
    "# print(list(unique([1,2,2,3,1,4])))   # [1,2,3,4]\n",
    "# print(\"\".join(unique(\"banane\")))     # \"bane\"\n"
   ],
   "id": "e300284e618d5806"
  },
  {
   "metadata": {},
   "cell_type": "markdown",
   "source": [
    "## ✅ Checklist J5\n",
    "- [ ] Itérateur de base (iter/next)\n",
    "- [ ] Itérateur custom (EvenNumbers)\n",
    "- [ ] Générateur fini (fibonacci)\n",
    "- [ ] Générateur infini (count_from)\n",
    "- [ ] Générateur lazy fichier (read_lines)\n",
    "- [ ] Pipeline de générateurs\n",
    "- [ ] chunked(iterable, size)\n",
    "- [ ] unique(iterable)\n",
    "\n",
    "### Suite (prépa Flask)\n",
    "- Réutiliser `read_lines` et `unique` pour traiter des données simples (ex: log, CSV).\n",
    "- Garder `chunked` en tête pour la pagination côté serveur.\n"
   ],
   "id": "489a4d3a3a0075e1"
  }
 ],
 "metadata": {
  "kernelspec": {
   "display_name": "Python 3",
   "language": "python",
   "name": "python3"
  },
  "language_info": {
   "codemirror_mode": {
    "name": "ipython",
    "version": 2
   },
   "file_extension": ".py",
   "mimetype": "text/x-python",
   "name": "python",
   "nbconvert_exporter": "python",
   "pygments_lexer": "ipython2",
   "version": "2.7.6"
  }
 },
 "nbformat": 4,
 "nbformat_minor": 5
}
