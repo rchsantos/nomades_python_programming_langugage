{
 "cells": [
  {
   "cell_type": "markdown",
   "id": "9ad2cc81",
   "metadata": {
    "slideshow": {
     "slide_type": "slide"
    }
   },
   "source": [
    "# Python Iterators\n",
    "\n",
    "Les itérateurs sont des objets qui peuvent être parcourus un à la fois (comme les listes, tuples, range, etc.). C'est un conteneur qui peut être parcouru un élément à la fois, permettant de traiter un élément à la fois. Les itérateurs sont implémentés dans Python avec des méthodes spéciales `__iter__()` et `__next__()`."
   ]
  },
  {
   "cell_type": "markdown",
   "id": "acc8cd82",
   "metadata": {
    "slideshow": {
     "slide_type": "slide"
    }
   },
   "source": [
    "## Itinérer a travers un itérateur\n",
    "\n",
    "En python, on peut utiliser la fonction `next()` pour parcourir un itérateur. La fonction `next()` renvoie l'élément suivant de l'itérateur."
   ]
  },
  {
   "cell_type": "code",
   "execution_count": null,
   "id": "52ca750d",
   "metadata": {},
   "outputs": [],
   "source": [
    "# define a list\n",
    "my_list = [4, 7, 0]\n",
    "# create an iterator from the list\n",
    "iterator = iter(my_list)\n",
    "# get the first element of the iterator\n",
    "print(next(iterator))\n",
    "# get the second element of the iterator\n",
    "print(next(iterator))\n",
    "# get the third element of the iterator\n",
    "print(next(iterator))"
   ]
  },
  {
   "cell_type": "markdown",
   "id": "1171378b",
   "metadata": {},
   "source": [
    "> **Note**: Après avoir atteint la fin de l'itérateur, la fonction `next()` lève une exception `StopIteration`."
   ]
  },
  {
   "cell_type": "markdown",
   "id": "0cfe5e9d",
   "metadata": {
    "slideshow": {
     "slide_type": "slide"
    }
   },
   "source": [
    "## Boucle for\n",
    "\n",
    "On peut aussi utiliser une boucle `for` pour parcourir un itérateur. (ça on sait deja bien le faire maintenant :P). Cela revient au même que d'utiliser plusieurs fois la fonction `next()`."
   ]
  },
  {
   "cell_type": "code",
   "execution_count": null,
   "id": "73f8c433",
   "metadata": {},
   "outputs": [],
   "source": [
    "# define a list\n",
    "my_list = [4, 7, 0]\n",
    "    \n",
    "def my_for(iterr):\n",
    "    iterr = iter(iterr)\n",
    "    while True:\n",
    "        try:\n",
    "            n = next(iterr)\n",
    "        except StopIteration:\n",
    "            break\n",
    "        print(n)\n",
    "        \n",
    "my_for(my_list)"
   ]
  },
  {
   "cell_type": "markdown",
   "id": "bc9a8df5",
   "metadata": {
    "slideshow": {
     "slide_type": "slide"
    }
   },
   "source": [
    "## Créer un itérateur custom\n",
    "\n",
    "Pour créer un itérateur custom, on doit implémenter les méthodes `__iter__()` et `__next__()` dans notre classe. \n",
    "\n",
    "- La méthode `__iter__()` renvoie l'objet itérateur lui-même. Si besoin on peut initialiser des variables dans cette méthode.\n",
    "- La méthode `__next__()` renvoie l'élément suivant de l'itérateur. Si on atteint la fin de l'itérateur, on lève une exception `StopIteration`."
   ]
  },
  {
   "cell_type": "code",
   "execution_count": null,
   "id": "b37575a1",
   "metadata": {
    "slideshow": {
     "slide_type": "slide"
    }
   },
   "outputs": [],
   "source": [
    "class PowTwo:\n",
    "    \"\"\"Class to implement an iterator\n",
    "    of powers of two\"\"\"\n",
    "\n",
    "    def __init__(self, max_=0):\n",
    "        self.max = max_\n",
    "\n",
    "    def __iter__(self):\n",
    "        self.n = 0\n",
    "        return self\n",
    "\n",
    "    def __next__(self):\n",
    "        if self.n <= self.max:\n",
    "            result = 2 ** self.n\n",
    "            self.n += 2\n",
    "            return result\n",
    "        else:\n",
    "            raise StopIteration\n",
    "\n",
    "# create an object\n",
    "numbers = (PowTwo(3))\n",
    "for n in numbers:\n",
    "    print(n)\n"
   ]
  },
  {
   "cell_type": "code",
   "execution_count": null,
   "id": "26df3df3",
   "metadata": {
    "slideshow": {
     "slide_type": "slide"
    }
   },
   "outputs": [],
   "source": [
    "for i in PowTwo(30):\n",
    "    print(i)"
   ]
  },
  {
   "cell_type": "markdown",
   "id": "6b8d09d3",
   "metadata": {
    "slideshow": {
     "slide_type": "slide"
    }
   },
   "source": [
    "## Iterateurs infinis\n",
    "\n",
    "Il est possible de créer des itérateurs infinis qui produiront des valeurs pour toujours."
   ]
  },
  {
   "cell_type": "markdown",
   "id": "5c2e00f6",
   "metadata": {
    "slideshow": {
     "slide_type": "slide"
    }
   },
   "source": [
    "### Exemple 1: Itérateur infini"
   ]
  },
  {
   "cell_type": "code",
   "execution_count": null,
   "id": "7d463d13",
   "metadata": {},
   "outputs": [],
   "source": [
    "import random\n",
    "# Créer un itérateur infini\n",
    "class InfiniteIterator:\n",
    "    def __init__(self, mi, ma):\n",
    "        self.num = 0\n",
    "        self.min = mi\n",
    "        self.max = ma\n",
    "        self.seen = []\n",
    "    def __iter__(self):\n",
    "        self.num = 0\n",
    "        return self\n",
    "    def __next__(self):\n",
    "        n = random.randint(self.min, self.max)\n",
    "        self.seen.append(n)\n",
    "        return n\n",
    "    def get_seen(self):\n",
    "        return self.seen\n",
    "\n",
    "# Créer un objet itérateur\n",
    "infinite_iterator = InfiniteIterator(1, 10)\n",
    "\n",
    "print(next(infinite_iterator))\n",
    "print(infinite_iterator.get_seen())"
   ]
  },
  {
   "cell_type": "markdown",
   "id": "79a70a3d",
   "metadata": {},
   "source": [
    "> **Note**: Ici, nous avons crée un itérateur qui n'appelle jaamis l'excpetion `StopIteration` -> il est infini."
   ]
  },
  {
   "cell_type": "markdown",
   "id": "c27ed4ce",
   "metadata": {
    "slideshow": {
     "slide_type": "slide"
    }
   },
   "source": [
    "# Generateurs\n",
    "\n",
    "Les générateurs sont des fonctions qui renvoient un itérateur. Ils sont écrits comme des fonctions normales, mais utilisent le mot-clé `yield` lorsqu'ils veulent renvoyer des données. Chaque fois que la fonction `next()` est appelée sur un générateur, le code de la fonction est exécuté jusqu'à ce qu'il atteigne un mot-clé `yield`. La valeur renvoyée par le générateur est la valeur renvoyée par le mot-clé `yield`."
   ]
  },
  {
   "cell_type": "markdown",
   "id": "553214ac",
   "metadata": {
    "slideshow": {
     "slide_type": "slide"
    }
   },
   "source": [
    "## Exemple 1: Générateur simple\n",
    "\n",
    "```python\n",
    "def my_generator(arg):\n",
    "    for i in range(arg):\n",
    "        yield i\n",
    "```"
   ]
  },
  {
   "cell_type": "markdown",
   "id": "40089d19",
   "metadata": {
    "slideshow": {
     "slide_type": "slide"
    }
   },
   "source": [
    "## Exemple 2: Générateur infini\n",
    "\n",
    "```python\n",
    "def my_generator():\n",
    "    i = 0\n",
    "    while True:\n",
    "        yield i\n",
    "        i += 1\n",
    "```"
   ]
  },
  {
   "cell_type": "code",
   "execution_count": 34,
   "id": "38496b25",
   "metadata": {
    "slideshow": {
     "slide_type": "slide"
    }
   },
   "outputs": [],
   "source": [
    "def my_generator():\n",
    "    # initialize counter\n",
    "    i = 0\n",
    "    # loop until counter is less than n\n",
    "    while True:\n",
    "        # produce the current value of the counter\n",
    "        yield i\n",
    "        # increment the counter\n",
    "        i += 1"
   ]
  },
  {
   "cell_type": "code",
   "execution_count": null,
   "id": "a3d1a0c9",
   "metadata": {},
   "outputs": [],
   "source": [
    "a = my_generator()\n",
    "b = my_generator()\n",
    "print(next(a))\n",
    "print(next(a))\n",
    "print(next(b))"
   ]
  },
  {
   "cell_type": "markdown",
   "id": "b68ac9b9",
   "metadata": {
    "slideshow": {
     "slide_type": "slide"
    }
   },
   "source": [
    "## generateurs - fonction `next`\n",
    "\n",
    "On peut utiliser la fonction `next()` pour parcourir un générateur. La fonction `next()` renvoie l'élément suivant du générateur.\n",
    "\n",
    "> **Note**: Après avoir atteint la fin du générateur, la fonction `next()` lève une exception `StopIteration`."
   ]
  },
  {
   "cell_type": "code",
   "execution_count": null,
   "id": "f03a2816",
   "metadata": {},
   "outputs": [],
   "source": [
    "\n",
    "g = my_generator()\n",
    "next(g)\n",
    "next(g)\n",
    "next(g)\n",
    "next(g)"
   ]
  },
  {
   "cell_type": "code",
   "execution_count": 43,
   "id": "f1ffe30c",
   "metadata": {
    "slideshow": {
     "slide_type": "slide"
    }
   },
   "outputs": [],
   "source": [
    "# Que fait ce generateur  ?\n",
    "def f():\n",
    "    a, b = 0, 1\n",
    "    while True:\n",
    "        yield a\n",
    "        a, b = b, a + b"
   ]
  },
  {
   "cell_type": "code",
   "execution_count": null,
   "id": "3ef1c79e",
   "metadata": {
    "slideshow": {
     "slide_type": "-"
    }
   },
   "outputs": [],
   "source": [
    "fb = f()\n",
    "f8 = [next(fb) for _ in range(8)]\n",
    "print(f8[-1])"
   ]
  },
  {
   "cell_type": "markdown",
   "id": "c7885bc8",
   "metadata": {
    "slideshow": {
     "slide_type": "slide"
    }
   },
   "source": [
    "## Python generator expression\n",
    "\n",
    "Les expressions de générateur sont une autre façon de créer des générateurs. Les expressions de générateur sont assez similaires aux expressions de liste. Mais les expressions de générateur n'enregistrent pas les valeurs dans la mémoire. Ils génèrent les valeurs à la volée."
   ]
  },
  {
   "cell_type": "markdown",
   "id": "7a8e08cc",
   "metadata": {},
   "source": [
    "voici la syntaxe:\n",
    "\n",
    "```python\n",
    "generator = (expression for i in iterable)\n",
    "```"
   ]
  },
  {
   "cell_type": "markdown",
   "id": "2fe2ea63",
   "metadata": {
    "slideshow": {
     "slide_type": "slide"
    }
   },
   "source": [
    "# Pourquoi utiliser des generateurs ?\n",
    "\n",
    "Les générateurs sont utilisés pour créer des itérateurs, mais avec un coût faible en termes de mémoire. Les générateurs sont également connus sous le nom de fonctions paresseuses car ils retardent l'exécution du code jusqu'à ce que cela soit nécessaire."
   ]
  },
  {
   "cell_type": "markdown",
   "id": "b00832b9",
   "metadata": {
    "slideshow": {
     "slide_type": "slide"
    }
   },
   "source": [
    "![linkedin generators](https://media.licdn.com/dms/image/D4D12AQGHHIfFZwVnCg/article-inline_image-shrink_1500_2232/0/1682146276305?e=1695254400&v=beta&t=JuPnWWo-9RlyHx-vKVe8Lc4bZRzoRlyV29FV2lFah_Q)\n",
    "\n",
    "[Source](https://www.linkedin.com/pulse/python-generators-understanding-power-different-use-cases-singh/)"
   ]
  },
  {
   "cell_type": "markdown",
   "id": "ea65f641",
   "metadata": {
    "slideshow": {
     "slide_type": "slide"
    }
   },
   "source": [
    "## Facile à implémenter\n"
   ]
  },
  {
   "cell_type": "code",
   "execution_count": 51,
   "id": "7186f2ce",
   "metadata": {
    "slideshow": {
     "slide_type": "slide"
    }
   },
   "outputs": [],
   "source": [
    "class PowTwo:\n",
    "    def __init__(self, max=0):\n",
    "        self.n = 0\n",
    "        self.max = max\n",
    "\n",
    "    def __iter__(self):\n",
    "        return self\n",
    "\n",
    "    def __next__(self):\n",
    "        if self.n > self.max:\n",
    "            raise StopIteration\n",
    "\n",
    "        result = 2 ** self.n\n",
    "        self.n += 1\n",
    "        return result"
   ]
  },
  {
   "cell_type": "code",
   "execution_count": 55,
   "id": "6c35f4fb",
   "metadata": {
    "slideshow": {
     "slide_type": "-"
    }
   },
   "outputs": [],
   "source": [
    "def PowTwoGen(max=0):\n",
    "    n = 0\n",
    "    while n <= max:\n",
    "        yield 2 ** n\n",
    "        n += 1"
   ]
  },
  {
   "cell_type": "code",
   "execution_count": null,
   "id": "d7fe298a",
   "metadata": {},
   "outputs": [],
   "source": [
    "p2_c = PowTwo(3)\n",
    "for p in PowTwoGen(3):\n",
    "    print(p)"
   ]
  },
  {
   "cell_type": "markdown",
   "id": "aafb5d38",
   "metadata": {
    "slideshow": {
     "slide_type": "slide"
    }
   },
   "source": [
    "## Memory efficient\n",
    "\n",
    "Les générateurs ne chargent pas toutes les valeurs dans la mémoire. Ils génèrent les valeurs à la volée. Donc, ils sont plus efficaces en termes de mémoire pour les grands ensembles de données.\n",
    "\n",
    "Cepependant, les générateurs ne peuvent pas être réinitialisés. Si nous voulons réutiliser les valeurs, nous devons recréer le générateur à chaque fois."
   ]
  },
  {
   "cell_type": "markdown",
   "id": "22a35d22",
   "metadata": {
    "slideshow": {
     "slide_type": "slide"
    }
   },
   "source": [
    "## represent infinite stream\n",
    "\n",
    "Les generateurs sont un excellent moyen de générer un flux infini de données. Un flux infini de donnée est difficile a stocker en mémoire, mais avec un generateur, on peut le faire facilement."
   ]
  },
  {
   "cell_type": "markdown",
   "id": "7010231c",
   "metadata": {
    "slideshow": {
     "slide_type": "slide"
    }
   },
   "source": [
    "## Enchainer les generateurs (pipeline)\n",
    "\n",
    "On peut enchainer les generateurs pour créer des pipelines de traitement de données. Cela permet de séparer les étapes de traitement de données en plusieurs fonctions. Cela rend le code plus lisible et plus facile à maintenir.\n",
    "\n",
    "voici un exemple:"
   ]
  },
  {
   "cell_type": "code",
   "execution_count": null,
   "id": "586b4b55",
   "metadata": {},
   "outputs": [],
   "source": [
    "# genrators pipelines\n",
    "\n",
    "def fibonacci_numbers(nums):\n",
    "    x, y = 0, 1\n",
    "    for _ in range(nums):\n",
    "        x, y = y, x+y\n",
    "        yield x\n",
    "\n",
    "def square(nums):\n",
    "    for num in nums:\n",
    "        yield num**2\n",
    "\n",
    "print(sum(square(fibonacci_numbers(3))))\n",
    "print(sum(square(fibonacci_numbers(3))))"
   ]
  }
 ],
 "metadata": {
  "celltoolbar": "Slideshow",
  "kernelspec": {
   "display_name": "Python 3 (ipykernel)",
   "language": "python",
   "name": "python3"
  },
  "language_info": {
   "codemirror_mode": {
    "name": "ipython",
    "version": 3
   },
   "file_extension": ".py",
   "mimetype": "text/x-python",
   "name": "python",
   "nbconvert_exporter": "python",
   "pygments_lexer": "ipython3",
   "version": "3.13.5"
  }
 },
 "nbformat": 4,
 "nbformat_minor": 5
}
